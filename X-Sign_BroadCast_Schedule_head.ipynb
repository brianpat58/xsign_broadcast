{
 "cells": [
  {
   "cell_type": "code",
   "execution_count": 3,
   "metadata": {
    "collapsed": true
   },
   "outputs": [],
   "source": [
    "import pandas as pd"
   ]
  },
  {
   "cell_type": "code",
   "execution_count": 5,
   "metadata": {
    "collapsed": true
   },
   "outputs": [],
   "source": [
    "from pandas.io.json import json_normalize\n",
    "\n",
    "import json\n",
    "import time"
   ]
  },
  {
   "cell_type": "code",
   "execution_count": 19,
   "metadata": {},
   "outputs": [],
   "source": [
    "fileLocation = \"D:\\\\X-sign\\\\Broadcast\\\\git\\\\xsign_broadcast\"\n",
    "fileNM = \"\\\\xs_schedule_head.csv\""
   ]
  },
  {
   "cell_type": "code",
   "execution_count": 55,
   "metadata": {},
   "outputs": [
    {
     "ename": "TypeError",
     "evalue": "parser_f() got an unexpected keyword argument 'orient'",
     "output_type": "error",
     "traceback": [
      "\u001b[1;31m---------------------------------------------------------------------------\u001b[0m",
      "\u001b[1;31mTypeError\u001b[0m                                 Traceback (most recent call last)",
      "\u001b[1;32m<ipython-input-55-ed260c12b914>\u001b[0m in \u001b[0;36m<module>\u001b[1;34m()\u001b[0m\n\u001b[1;32m----> 1\u001b[1;33m \u001b[0mschedule_head_df\u001b[0m \u001b[1;33m=\u001b[0m \u001b[0mpd\u001b[0m\u001b[1;33m.\u001b[0m\u001b[0mread_csv\u001b[0m\u001b[1;33m(\u001b[0m\u001b[0mfileLocation\u001b[0m\u001b[1;33m+\u001b[0m\u001b[0mfileNM\u001b[0m\u001b[1;33m,\u001b[0m\u001b[0morient\u001b[0m\u001b[1;33m=\u001b[0m\u001b[1;34m'index'\u001b[0m\u001b[1;33m)\u001b[0m\u001b[1;33m\u001b[0m\u001b[0m\n\u001b[0m",
      "\u001b[1;31mTypeError\u001b[0m: parser_f() got an unexpected keyword argument 'orient'"
     ]
    }
   ],
   "source": [
    "schedule_head_df = pd.read_csv(fileLocation+fileNM,orient='index')"
   ]
  },
  {
   "cell_type": "code",
   "execution_count": 49,
   "metadata": {
    "scrolled": true
   },
   "outputs": [
    {
     "data": {
      "text/plain": [
       "description    object\n",
       "dtype: object"
      ]
     },
     "execution_count": 49,
     "metadata": {},
     "output_type": "execute_result"
    }
   ],
   "source": [
    "schedule_head_df.dtypes"
   ]
  },
  {
   "cell_type": "code",
   "execution_count": 43,
   "metadata": {
    "scrolled": false
   },
   "outputs": [
    {
     "data": {
      "text/html": [
       "<div>\n",
       "<style>\n",
       "    .dataframe thead tr:only-child th {\n",
       "        text-align: right;\n",
       "    }\n",
       "\n",
       "    .dataframe thead th {\n",
       "        text-align: left;\n",
       "    }\n",
       "\n",
       "    .dataframe tbody tr th {\n",
       "        vertical-align: top;\n",
       "    }\n",
       "</style>\n",
       "<table border=\"1\" class=\"dataframe\">\n",
       "  <thead>\n",
       "    <tr style=\"text-align: right;\">\n",
       "      <th></th>\n",
       "      <th>description</th>\n",
       "    </tr>\n",
       "  </thead>\n",
       "  <tbody>\n",
       "    <tr>\n",
       "      <th>0</th>\n",
       "      <td>{\"id\":\"1721\",\"for_tag\":\"1\",\"type\":\"1\",\"content...</td>\n",
       "    </tr>\n",
       "    <tr>\n",
       "      <th>1</th>\n",
       "      <td>{\"id\":\"1\",\"for_tag\":\"1\",\"type\":\"1\",\"content_ty...</td>\n",
       "    </tr>\n",
       "    <tr>\n",
       "      <th>2</th>\n",
       "      <td>{\"id\":\"1720\",\"for_tag\":\"1\",\"type\":\"1\",\"content...</td>\n",
       "    </tr>\n",
       "    <tr>\n",
       "      <th>3</th>\n",
       "      <td>{\"id\":\"1720\",\"for_tag\":\"1\",\"type\":\"1\",\"content...</td>\n",
       "    </tr>\n",
       "    <tr>\n",
       "      <th>4</th>\n",
       "      <td>{\"id\":\"1725\",\"for_tag\":\"1\",\"type\":\"1\",\"content...</td>\n",
       "    </tr>\n",
       "  </tbody>\n",
       "</table>\n",
       "</div>"
      ],
      "text/plain": [
       "                                         description\n",
       "0  {\"id\":\"1721\",\"for_tag\":\"1\",\"type\":\"1\",\"content...\n",
       "1  {\"id\":\"1\",\"for_tag\":\"1\",\"type\":\"1\",\"content_ty...\n",
       "2  {\"id\":\"1720\",\"for_tag\":\"1\",\"type\":\"1\",\"content...\n",
       "3  {\"id\":\"1720\",\"for_tag\":\"1\",\"type\":\"1\",\"content...\n",
       "4  {\"id\":\"1725\",\"for_tag\":\"1\",\"type\":\"1\",\"content..."
      ]
     },
     "execution_count": 43,
     "metadata": {},
     "output_type": "execute_result"
    }
   ],
   "source": [
    "schedule_head_df.head()"
   ]
  },
  {
   "cell_type": "code",
   "execution_count": 40,
   "metadata": {
    "scrolled": true
   },
   "outputs": [
    {
     "data": {
      "text/html": [
       "<div>\n",
       "<style>\n",
       "    .dataframe thead tr:only-child th {\n",
       "        text-align: right;\n",
       "    }\n",
       "\n",
       "    .dataframe thead th {\n",
       "        text-align: left;\n",
       "    }\n",
       "\n",
       "    .dataframe tbody tr th {\n",
       "        vertical-align: top;\n",
       "    }\n",
       "</style>\n",
       "<table border=\"1\" class=\"dataframe\">\n",
       "  <thead>\n",
       "    <tr style=\"text-align: right;\">\n",
       "      <th></th>\n",
       "      <th>description</th>\n",
       "    </tr>\n",
       "  </thead>\n",
       "  <tbody>\n",
       "    <tr>\n",
       "      <th>0</th>\n",
       "      <td>{\"id\":\"1721\",\"for_tag\":\"1\",\"type\":\"1\",\"content...</td>\n",
       "    </tr>\n",
       "    <tr>\n",
       "      <th>1</th>\n",
       "      <td>{\"id\":\"1\",\"for_tag\":\"1\",\"type\":\"1\",\"content_ty...</td>\n",
       "    </tr>\n",
       "  </tbody>\n",
       "</table>\n",
       "</div>"
      ],
      "text/plain": [
       "                                         description\n",
       "0  {\"id\":\"1721\",\"for_tag\":\"1\",\"type\":\"1\",\"content...\n",
       "1  {\"id\":\"1\",\"for_tag\":\"1\",\"type\":\"1\",\"content_ty..."
      ]
     },
     "execution_count": 40,
     "metadata": {},
     "output_type": "execute_result"
    }
   ],
   "source": [
    "schedule_head_df[0:2]"
   ]
  },
  {
   "cell_type": "code",
   "execution_count": 92,
   "metadata": {
    "scrolled": true
   },
   "outputs": [],
   "source": [
    "setData = json.loads(str(schedule_head_df['description'][0]))"
   ]
  },
  {
   "cell_type": "code",
   "execution_count": 94,
   "metadata": {
    "scrolled": true
   },
   "outputs": [],
   "source": [
    "schedule_df = json_normalize(setData)"
   ]
  },
  {
   "cell_type": "code",
   "execution_count": 95,
   "metadata": {},
   "outputs": [
    {
     "data": {
      "text/html": [
       "<div>\n",
       "<style>\n",
       "    .dataframe thead tr:only-child th {\n",
       "        text-align: right;\n",
       "    }\n",
       "\n",
       "    .dataframe thead th {\n",
       "        text-align: left;\n",
       "    }\n",
       "\n",
       "    .dataframe tbody tr th {\n",
       "        vertical-align: top;\n",
       "    }\n",
       "</style>\n",
       "<table border=\"1\" class=\"dataframe\">\n",
       "  <thead>\n",
       "    <tr style=\"text-align: right;\">\n",
       "      <th></th>\n",
       "      <th>content_type</th>\n",
       "      <th>for_tag</th>\n",
       "      <th>id</th>\n",
       "      <th>name</th>\n",
       "      <th>play_mode</th>\n",
       "      <th>play_time</th>\n",
       "      <th>play_time_unit</th>\n",
       "      <th>select_style_id</th>\n",
       "      <th>style</th>\n",
       "      <th>style_name</th>\n",
       "      <th>text_content</th>\n",
       "      <th>type</th>\n",
       "    </tr>\n",
       "  </thead>\n",
       "  <tbody>\n",
       "    <tr>\n",
       "      <th>0</th>\n",
       "      <td>1</td>\n",
       "      <td>1</td>\n",
       "      <td>1721</td>\n",
       "      <td>222</td>\n",
       "      <td>1</td>\n",
       "      <td>10</td>\n",
       "      <td>i</td>\n",
       "      <td>3419</td>\n",
       "      <td>{\"font_size\":2,\"font_color\":\"#ff0000\",\"text_al...</td>\n",
       "      <td>ifp.style_1</td>\n",
       "      <td>666</td>\n",
       "      <td>1</td>\n",
       "    </tr>\n",
       "  </tbody>\n",
       "</table>\n",
       "</div>"
      ],
      "text/plain": [
       "  content_type for_tag    id name  play_mode play_time play_time_unit  \\\n",
       "0            1       1  1721  222          1        10              i   \n",
       "\n",
       "  select_style_id                                              style  \\\n",
       "0            3419  {\"font_size\":2,\"font_color\":\"#ff0000\",\"text_al...   \n",
       "\n",
       "    style_name text_content type  \n",
       "0  ifp.style_1          666    1  "
      ]
     },
     "execution_count": 95,
     "metadata": {},
     "output_type": "execute_result"
    }
   ],
   "source": [
    "schedule_df"
   ]
  },
  {
   "cell_type": "code",
   "execution_count": 96,
   "metadata": {},
   "outputs": [],
   "source": [
    "for i in range(1,len(schedule_head_df)):\n",
    "    data = json_normalize(json.loads(str(schedule_head_df['description'][i])))\n",
    "    schedule_df = pd.concat([schedule_df,data], axis=0, ignore_index=True)\n",
    "    "
   ]
  },
  {
   "cell_type": "code",
   "execution_count": 98,
   "metadata": {},
   "outputs": [
    {
     "data": {
      "text/plain": [
       "all_day                object\n",
       "close_date             object\n",
       "close_time_h           object\n",
       "close_time_i           object\n",
       "close_time_s           object\n",
       "content_type           object\n",
       "cycle                  object\n",
       "cycle_day              object\n",
       "cycle_week             object\n",
       "duration              float64\n",
       "for_tag                object\n",
       "id                     object\n",
       "is_live                object\n",
       "link                   object\n",
       "lite_archives_id       object\n",
       "lite_archives_name     object\n",
       "name                   object\n",
       "one_play               object\n",
       "open_date              object\n",
       "open_loop              object\n",
       "open_time_h            object\n",
       "open_time_i            object\n",
       "open_time_s            object\n",
       "play_mode             float64\n",
       "play_speed             object\n",
       "play_time              object\n",
       "play_time_h            object\n",
       "play_time_i            object\n",
       "play_time_s            object\n",
       "play_time_unit         object\n",
       "schedule_head_id       object\n",
       "select_style_id        object\n",
       "source                 object\n",
       "start                 float64\n",
       "style                  object\n",
       "style_name             object\n",
       "text_content           object\n",
       "thumbnail              object\n",
       "type                   object\n",
       "video_id               object\n",
       "video_source           object\n",
       "video_title            object\n",
       "week                   object\n",
       "dtype: object"
      ]
     },
     "execution_count": 98,
     "metadata": {},
     "output_type": "execute_result"
    }
   ],
   "source": [
    "schedule_df.dtypes"
   ]
  },
  {
   "cell_type": "code",
   "execution_count": 99,
   "metadata": {
    "collapsed": true
   },
   "outputs": [],
   "source": [
    "schedule_df.to_excel(\"D:\\\\X-sign\\\\Broadcast\\\\git\\\\xsign_broadcast\\\\schedule_df.xlsx\")"
   ]
  },
  {
   "cell_type": "code",
   "execution_count": null,
   "metadata": {
    "collapsed": true
   },
   "outputs": [],
   "source": []
  }
 ],
 "metadata": {
  "kernelspec": {
   "display_name": "Python 3",
   "language": "python",
   "name": "python3"
  },
  "language_info": {
   "codemirror_mode": {
    "name": "ipython",
    "version": 3
   },
   "file_extension": ".py",
   "mimetype": "text/x-python",
   "name": "python",
   "nbconvert_exporter": "python",
   "pygments_lexer": "ipython3",
   "version": "3.6.1"
  }
 },
 "nbformat": 4,
 "nbformat_minor": 2
}
